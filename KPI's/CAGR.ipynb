{
 "cells": [
  {
   "cell_type": "code",
   "execution_count": 1,
   "metadata": {},
   "outputs": [],
   "source": [
    "import pandas as pd\n",
    "import datetime as dt\n",
    "import yfinance as yf\n",
    "import matplotlib.pyplot as plt\n",
    "import numpy as np"
   ]
  },
  {
   "cell_type": "code",
   "execution_count": 2,
   "metadata": {},
   "outputs": [],
   "source": [
    "tickers=[\"ITC.NS\",\"TCS.NS\"]\n",
    "ohlcv_data={}"
   ]
  },
  {
   "cell_type": "code",
   "execution_count": 3,
   "metadata": {},
   "outputs": [
    {
     "name": "stdout",
     "output_type": "stream",
     "text": [
      "[*********************100%***********************]  1 of 1 completed\n",
      "[*********************100%***********************]  1 of 1 completed\n"
     ]
    }
   ],
   "source": [
    "for ticker in tickers:\n",
    "    temp=yf.download(ticker,period='5y',interval='1d')\n",
    "    temp.dropna(how='any',inplace=True)\n",
    "    ohlcv_data[ticker]=temp"
   ]
  },
  {
   "cell_type": "code",
   "execution_count": 4,
   "metadata": {},
   "outputs": [],
   "source": [
    "def CAGR(DF):\n",
    "    df=DF.copy()\n",
    "    df[\"return\"]=df[\"Adj Close\"].pct_change()\n",
    "    df[\"cumreturn\"]=(1+df[\"return\"]).cumprod()\n",
    "    n=len(df)/252\n",
    "    CAGR=(df[\"cumreturn\"][-1])**(1/n)-1\n",
    "    return CAGR"
   ]
  },
  {
   "cell_type": "code",
   "execution_count": null,
   "metadata": {},
   "outputs": [],
   "source": []
  },
  {
   "cell_type": "code",
   "execution_count": 5,
   "metadata": {},
   "outputs": [
    {
     "name": "stdout",
     "output_type": "stream",
     "text": [
      "CAGR for ITC.NS 0.1199523626079344\n",
      "CAGR for TCS.NS 0.1328435389535969\n"
     ]
    }
   ],
   "source": [
    "\n",
    "for ticker in ohlcv_data:\n",
    "    print(\"CAGR for {} {}\".format(ticker,CAGR(ohlcv_data[ticker])))"
   ]
  }
 ],
 "metadata": {
  "kernelspec": {
   "display_name": "base",
   "language": "python",
   "name": "python3"
  },
  "language_info": {
   "codemirror_mode": {
    "name": "ipython",
    "version": 3
   },
   "file_extension": ".py",
   "mimetype": "text/x-python",
   "name": "python",
   "nbconvert_exporter": "python",
   "pygments_lexer": "ipython3",
   "version": "3.10.9"
  },
  "orig_nbformat": 4
 },
 "nbformat": 4,
 "nbformat_minor": 2
}
