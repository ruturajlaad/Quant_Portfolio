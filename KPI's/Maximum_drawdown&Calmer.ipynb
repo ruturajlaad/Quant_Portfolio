{
 "cells": [
  {
   "cell_type": "code",
   "execution_count": 12,
   "metadata": {},
   "outputs": [],
   "source": [
    "import pandas as pd\n",
    "import datetime as dt\n",
    "import yfinance as yf\n",
    "import matplotlib.pyplot as plt\n",
    "import numpy as np"
   ]
  },
  {
   "cell_type": "code",
   "execution_count": 13,
   "metadata": {},
   "outputs": [],
   "source": [
    "tickers=[\"ITC.NS\",\"TCS.NS\"]\n",
    "ohlcv_data={}"
   ]
  },
  {
   "cell_type": "code",
   "execution_count": 14,
   "metadata": {},
   "outputs": [
    {
     "name": "stdout",
     "output_type": "stream",
     "text": [
      "[*********************100%***********************]  1 of 1 completed\n",
      "[*********************100%***********************]  1 of 1 completed\n"
     ]
    }
   ],
   "source": [
    "for ticker in tickers:\n",
    "    temp=yf.download(ticker,period='1y',interval='1d')\n",
    "    temp.dropna(how='any',inplace=True)\n",
    "    ohlcv_data[ticker]=temp"
   ]
  },
  {
   "cell_type": "code",
   "execution_count": 15,
   "metadata": {},
   "outputs": [],
   "source": [
    "def max_dd(DF):\n",
    "    df=DF.copy()\n",
    "    df[\"return\"]=df[\"Adj Close\"].pct_change()\n",
    "    df[\"cumreturn\"]=(1+df[\"return\"]).cumprod()\n",
    "    df[\"cum_roll_max\"]=df[\"cumreturn\"].cummax()\n",
    "    df[\"drawdown\"]=(df[\"cum_roll_max\"])-df[\"cumreturn\"]\n",
    "    return (df[\"drawdown\"]/df[\"cum_roll_max\"]).max()"
   ]
  },
  {
   "cell_type": "code",
   "execution_count": 16,
   "metadata": {},
   "outputs": [],
   "source": [
    "def CAGR(DF):\n",
    "    df=DF.copy()\n",
    "    df[\"return\"]=df[\"Adj Close\"].pct_change()\n",
    "    df[\"cumreturn\"]=(1+df[\"return\"]).cumprod()\n",
    "    n=len(df)/252\n",
    "    CAGR=(df[\"cumreturn\"][-1])**(1/n)-1\n",
    "    return CAGR"
   ]
  },
  {
   "cell_type": "code",
   "execution_count": 17,
   "metadata": {},
   "outputs": [],
   "source": [
    "def calmar(DF):\n",
    "    df=DF.copy()\n",
    "    return CAGR(df)/max_dd(df)\n"
   ]
  },
  {
   "cell_type": "code",
   "execution_count": 18,
   "metadata": {},
   "outputs": [
    {
     "name": "stdout",
     "output_type": "stream",
     "text": [
      "Maximum drawdown for ITC.NS 0.1110433700583958\n",
      "Calmar for ITC.NS 3.3752296682304994\n",
      "Maximum drawdown for TCS.NS 0.13165915684790255\n",
      "Calmar for TCS.NS 0.9339290223984451\n"
     ]
    }
   ],
   "source": [
    "\n",
    "for ticker in ohlcv_data:\n",
    "    print(\"Maximum drawdown for {} {}\".format(ticker,max_dd(ohlcv_data[ticker])))\n",
    "    print(\"Calmar for {} {}\".format(ticker,calmar(ohlcv_data[ticker])))"
   ]
  }
 ],
 "metadata": {
  "kernelspec": {
   "display_name": "base",
   "language": "python",
   "name": "python3"
  },
  "language_info": {
   "codemirror_mode": {
    "name": "ipython",
    "version": 3
   },
   "file_extension": ".py",
   "mimetype": "text/x-python",
   "name": "python",
   "nbconvert_exporter": "python",
   "pygments_lexer": "ipython3",
   "version": "3.10.9"
  },
  "orig_nbformat": 4
 },
 "nbformat": 4,
 "nbformat_minor": 2
}
