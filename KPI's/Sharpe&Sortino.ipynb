{
 "cells": [
  {
   "cell_type": "code",
   "execution_count": 10,
   "metadata": {},
   "outputs": [],
   "source": [
    "import pandas as pd\n",
    "import datetime as dt\n",
    "import yfinance as yf\n",
    "import matplotlib.pyplot as plt\n",
    "import numpy as np"
   ]
  },
  {
   "cell_type": "code",
   "execution_count": 11,
   "metadata": {},
   "outputs": [],
   "source": [
    "tickers=[\"ITC.NS\",\"TCS.NS\"]\n",
    "ohlcv_data={}"
   ]
  },
  {
   "cell_type": "code",
   "execution_count": 12,
   "metadata": {},
   "outputs": [
    {
     "name": "stdout",
     "output_type": "stream",
     "text": [
      "[*********************100%***********************]  1 of 1 completed\n",
      "[*********************100%***********************]  1 of 1 completed\n"
     ]
    }
   ],
   "source": [
    "for ticker in tickers:\n",
    "    temp=yf.download(ticker,period='1y',interval='1d')\n",
    "    temp.dropna(how='any',inplace=True)\n",
    "    ohlcv_data[ticker]=temp"
   ]
  },
  {
   "cell_type": "code",
   "execution_count": 13,
   "metadata": {},
   "outputs": [],
   "source": [
    "def CAGR(DF):\n",
    "    df=DF.copy()\n",
    "    df[\"return\"]=df[\"Adj Close\"].pct_change()\n",
    "    df[\"cumreturn\"]=(1+df[\"return\"]).cumprod()\n",
    "    n=len(df)/252\n",
    "    CAGR=(df[\"cumreturn\"][-1])**(1/n)-1\n",
    "    return CAGR"
   ]
  },
  {
   "cell_type": "code",
   "execution_count": 14,
   "metadata": {},
   "outputs": [],
   "source": [
    "def VOL(DF):\n",
    "    df=DF.copy()\n",
    "    df[\"return\"]=df[\"Adj Close\"].pct_change()\n",
    "    vol=df[\"return\"].std()* np.sqrt(252)\n",
    "    return vol"
   ]
  },
  {
   "cell_type": "code",
   "execution_count": 15,
   "metadata": {},
   "outputs": [],
   "source": [
    "def sharpe(DF):\n",
    "    df=DF.copy()\n",
    "    return (CAGR(df)-0.07)/VOL(df)\n",
    "    "
   ]
  },
  {
   "cell_type": "code",
   "execution_count": 16,
   "metadata": {},
   "outputs": [],
   "source": [
    "def sortino(DF):\n",
    "    df=DF.copy()\n",
    "    df[\"return\"]=df[\"Adj Close\"].pct_change()\n",
    "    n_r=np.where(df[\"return\"]>0,0,df[\"return\"])\n",
    "    n_vol=pd.Series(n_r[n_r!=0]).std()*np.sqrt(252)\n",
    "    return(CAGR(df)-0.07)/n_vol\n"
   ]
  },
  {
   "cell_type": "code",
   "execution_count": 17,
   "metadata": {},
   "outputs": [
    {
     "name": "stdout",
     "output_type": "stream",
     "text": [
      "Sharpe ratio for ITC.NS 1.6381791327108053\n",
      "Sortino ratio for ITC.NS 2.554924586833572\n",
      "Sharpe ratio for TCS.NS 0.28881738065827434\n",
      "Sortino ratio for TCS.NS 0.4750442037370323\n"
     ]
    }
   ],
   "source": [
    "\n",
    "for ticker in ohlcv_data:\n",
    "    print(\"Sharpe ratio for {} {}\".format(ticker,sharpe(ohlcv_data[ticker])))\n",
    "    print(\"Sortino ratio for {} {}\".format(ticker,sortino(ohlcv_data[ticker])))"
   ]
  }
 ],
 "metadata": {
  "kernelspec": {
   "display_name": "base",
   "language": "python",
   "name": "python3"
  },
  "language_info": {
   "codemirror_mode": {
    "name": "ipython",
    "version": 3
   },
   "file_extension": ".py",
   "mimetype": "text/x-python",
   "name": "python",
   "nbconvert_exporter": "python",
   "pygments_lexer": "ipython3",
   "version": "3.10.9"
  },
  "orig_nbformat": 4
 },
 "nbformat": 4,
 "nbformat_minor": 2
}
