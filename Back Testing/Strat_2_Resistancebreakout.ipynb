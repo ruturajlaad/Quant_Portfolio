{
 "cells": [
  {
   "cell_type": "code",
   "execution_count": 48,
   "metadata": {},
   "outputs": [],
   "source": [
    "import pandas as pd\n",
    "import numpy as np\n",
    "import time\n",
    "import copy\n",
    "import yfinance as yf"
   ]
  },
  {
   "cell_type": "code",
   "execution_count": 49,
   "metadata": {},
   "outputs": [],
   "source": [
    "def ATR(DF,n):\n",
    "    df=DF.copy()\n",
    "    df[\"H-L\"]=df[\"High\"]-df[\"Low\"]\n",
    "    df[\"H-PC\"]=df[\"High\"]-df[\"Adj Close\"].shift(1)\n",
    "    df[\"L-PC\"]=df[\"Low\"]-df[\"Adj Close\"].shift(1)\n",
    "    df[\"TR\"]=df[[\"H-L\",\"H-PC\",\"L-PC\"]].max(axis=1,skipna=False)\n",
    "    #df[\"ATR\"]=df[\"TR\"].ewm(com=n,min_periods=n).mean()\n",
    "    df['ATR'] = df['TR'].rolling(n).mean()\n",
    "    df2 = df.drop(['H-L','H-PC','L-PC'],axis=1)\n",
    "    return df2[\"ATR\"]\n",
    "\n",
    "def CAGR(DF):\n",
    "    df=DF.copy()\n",
    "    df[\"cumreturn\"]=(1+df[\"ret\"]).cumprod()\n",
    "    n=len(df)/(252*78)\n",
    "    CAGR=(df[\"cumreturn\"].tolist()[-1])**(1/n)-1\n",
    "    return CAGR\n",
    "\n",
    "def VOL(DF):\n",
    "    df=DF.copy()\n",
    "    vol=df[\"ret\"].std()* np.sqrt(252*78)\n",
    "    return vol\n",
    "\n",
    "def sharpe(DF,rf):\n",
    "    df=DF.copy()\n",
    "    sr=(CAGR(df)-rf)/VOL(df)\n",
    "    return sr\n",
    "    \n",
    "def max_dd(DF):\n",
    "    df=DF.copy()\n",
    "    df[\"cumreturn\"]=(1+df[\"ret\"]).cumprod()\n",
    "    df[\"cum_roll_max\"]=df[\"cumreturn\"].cummax()\n",
    "    df[\"drawdown\"]=(df[\"cum_roll_max\"])-df[\"cumreturn\"]\n",
    "    df[\"drawdown_pct\"] = df[\"drawdown\"]/df[\"cum_roll_max\"]\n",
    "    max_dd= df[\"drawdown_pct\"].max()\n",
    "    return max_dd"
   ]
  },
  {
   "cell_type": "code",
   "execution_count": 50,
   "metadata": {},
   "outputs": [],
   "source": [
    "tickers=[\"TCS.NS\",\"INFY.NS\"]\n",
    "ohlc_intraday_keys={}"
   ]
  },
  {
   "cell_type": "code",
   "execution_count": 51,
   "metadata": {},
   "outputs": [
    {
     "name": "stdout",
     "output_type": "stream",
     "text": [
      "[*********************100%***********************]  1 of 1 completed\n",
      "[*********************100%***********************]  1 of 1 completed\n"
     ]
    }
   ],
   "source": [
    "for ticker in tickers:\n",
    "    temp=yf.download(ticker,period='1mo',interval='5m')\n",
    "    temp.dropna(how='any',inplace=True)\n",
    "    ohlc_intraday_keys[ticker]=temp"
   ]
  },
  {
   "cell_type": "code",
   "execution_count": 52,
   "metadata": {},
   "outputs": [
    {
     "data": {
      "text/plain": [
       "{'TCS.NS':                                   Open         High          Low        Close  \\\n",
       " Datetime                                                                        \n",
       " 2023-08-23 09:15:00+05:30  3389.000000  3402.000000  3389.000000  3399.699951   \n",
       " 2023-08-23 09:20:00+05:30  3400.500000  3400.800049  3390.000000  3394.500000   \n",
       " 2023-08-23 09:25:00+05:30  3393.250000  3398.149902  3386.250000  3387.649902   \n",
       " 2023-08-23 09:30:00+05:30  3386.600098  3398.000000  3386.100098  3397.100098   \n",
       " 2023-08-23 09:35:00+05:30  3397.000000  3401.000000  3395.000000  3395.000000   \n",
       " ...                                ...          ...          ...          ...   \n",
       " 2023-09-22 15:05:00+05:30  3606.850098  3610.000000  3606.500000  3610.000000   \n",
       " 2023-09-22 15:10:00+05:30  3609.949951  3610.000000  3600.100098  3600.350098   \n",
       " 2023-09-22 15:15:00+05:30  3600.300049  3600.350098  3588.149902  3600.000000   \n",
       " 2023-09-22 15:20:00+05:30  3599.000000  3610.199951  3599.000000  3601.399902   \n",
       " 2023-09-22 15:25:00+05:30  3602.100098  3608.899902  3601.649902  3604.000000   \n",
       " \n",
       "                              Adj Close  Volume  \n",
       " Datetime                                        \n",
       " 2023-08-23 09:15:00+05:30  3399.699951       0  \n",
       " 2023-08-23 09:20:00+05:30  3394.500000   41820  \n",
       " 2023-08-23 09:25:00+05:30  3387.649902   33008  \n",
       " 2023-08-23 09:30:00+05:30  3397.100098   39231  \n",
       " 2023-08-23 09:35:00+05:30  3395.000000   19612  \n",
       " ...                                ...     ...  \n",
       " 2023-09-22 15:05:00+05:30  3610.000000   34525  \n",
       " 2023-09-22 15:10:00+05:30  3600.350098   64705  \n",
       " 2023-09-22 15:15:00+05:30  3600.000000   83431  \n",
       " 2023-09-22 15:20:00+05:30  3601.399902  149412  \n",
       " 2023-09-22 15:25:00+05:30  3604.000000   55485  \n",
       " \n",
       " [1650 rows x 6 columns],\n",
       " 'INFY.NS':                                   Open         High          Low        Close  \\\n",
       " Datetime                                                                        \n",
       " 2023-08-23 09:15:00+05:30  1412.400024  1413.449951  1410.349976  1413.000000   \n",
       " 2023-08-23 09:20:00+05:30  1412.949951  1413.000000  1409.750000  1409.900024   \n",
       " 2023-08-23 09:25:00+05:30  1409.900024  1410.750000  1407.900024  1408.199951   \n",
       " 2023-08-23 09:30:00+05:30  1408.050049  1411.500000  1407.400024  1411.349976   \n",
       " 2023-08-23 09:35:00+05:30  1411.199951  1412.550049  1409.050049  1409.199951   \n",
       " ...                                ...          ...          ...          ...   \n",
       " 2023-09-22 15:05:00+05:30  1496.949951  1497.050049  1493.150024  1496.250000   \n",
       " 2023-09-22 15:10:00+05:30  1496.150024  1497.650024  1495.650024  1495.750000   \n",
       " 2023-09-22 15:15:00+05:30  1495.699951  1497.849976  1493.300049  1494.250000   \n",
       " 2023-09-22 15:20:00+05:30  1494.050049  1499.050049  1493.949951  1498.900024   \n",
       " 2023-09-22 15:25:00+05:30  1498.949951  1499.949951  1494.150024  1495.000000   \n",
       " \n",
       "                              Adj Close  Volume  \n",
       " Datetime                                        \n",
       " 2023-08-23 09:15:00+05:30  1413.000000       0  \n",
       " 2023-08-23 09:20:00+05:30  1409.900024   68327  \n",
       " 2023-08-23 09:25:00+05:30  1408.199951   59103  \n",
       " 2023-08-23 09:30:00+05:30  1411.349976   59281  \n",
       " 2023-08-23 09:35:00+05:30  1409.199951   50476  \n",
       " ...                                ...     ...  \n",
       " 2023-09-22 15:05:00+05:30  1496.250000  146746  \n",
       " 2023-09-22 15:10:00+05:30  1495.750000  164178  \n",
       " 2023-09-22 15:15:00+05:30  1494.250000  161689  \n",
       " 2023-09-22 15:20:00+05:30  1498.900024  182914  \n",
       " 2023-09-22 15:25:00+05:30  1495.000000  139365  \n",
       " \n",
       " [1650 rows x 6 columns]}"
      ]
     },
     "execution_count": 52,
     "metadata": {},
     "output_type": "execute_result"
    }
   ],
   "source": [
    "ohlc_intraday_keys"
   ]
  },
  {
   "cell_type": "code",
   "execution_count": 53,
   "metadata": {},
   "outputs": [
    {
     "name": "stdout",
     "output_type": "stream",
     "text": [
      "Calculating ATR and rolling max price for TCS.NS\n",
      "Calculating ATR and rolling max price for INFY.NS\n"
     ]
    }
   ],
   "source": [
    "# calculating ATR and rolling max price for each stock and consolidating this info by stock in a separate dataframe\n",
    "\n",
    "ohlc_dict=copy.deepcopy(ohlc_intraday_keys)\n",
    "tickers_signal={}\n",
    "tickers_ret={}\n",
    "\n",
    "for ticker in tickers:\n",
    "    print(\"Calculating ATR and rolling max price for\",ticker)\n",
    "    ohlc_dict[ticker][\"ATR\"]=ATR(ohlc_dict[ticker],20)\n",
    "    ohlc_dict[ticker][\"roll_max_cp\"]=ohlc_dict[ticker][\"High\"].rolling(20).max()\n",
    "    ohlc_dict[ticker][\"roll_min_cp\"]=ohlc_dict[ticker][\"Low\"].rolling(20).min()\n",
    "    ohlc_dict[ticker][\"roll_max_vol\"]=ohlc_dict[ticker][\"Volume\"].rolling(20).max()\n",
    "    ohlc_dict[ticker].dropna(inplace=True)\n",
    "    tickers_signal[ticker]=\"\"\n",
    "    tickers_ret[ticker]=[0]"
   ]
  },
  {
   "cell_type": "code",
   "execution_count": 54,
   "metadata": {},
   "outputs": [
    {
     "data": {
      "text/plain": [
       "{'TCS.NS':                                   Open         High          Low        Close  \\\n",
       " Datetime                                                                        \n",
       " 2023-08-23 10:55:00+05:30  3384.800049  3386.949951  3383.000000  3386.250000   \n",
       " 2023-08-23 11:00:00+05:30  3386.199951  3386.500000  3383.500000  3385.000000   \n",
       " 2023-08-23 11:05:00+05:30  3385.000000  3387.350098  3384.000000  3387.350098   \n",
       " 2023-08-23 11:10:00+05:30  3386.350098  3387.850098  3385.500000  3387.149902   \n",
       " 2023-08-23 11:15:00+05:30  3387.000000  3387.100098  3384.300049  3386.949951   \n",
       " ...                                ...          ...          ...          ...   \n",
       " 2023-09-22 15:05:00+05:30  3606.850098  3610.000000  3606.500000  3610.000000   \n",
       " 2023-09-22 15:10:00+05:30  3609.949951  3610.000000  3600.100098  3600.350098   \n",
       " 2023-09-22 15:15:00+05:30  3600.300049  3600.350098  3588.149902  3600.000000   \n",
       " 2023-09-22 15:20:00+05:30  3599.000000  3610.199951  3599.000000  3601.399902   \n",
       " 2023-09-22 15:25:00+05:30  3602.100098  3608.899902  3601.649902  3604.000000   \n",
       " \n",
       "                              Adj Close  Volume       ATR  roll_max_cp  \\\n",
       " Datetime                                                                \n",
       " 2023-08-23 10:55:00+05:30  3386.250000   11051  6.084985  3401.000000   \n",
       " 2023-08-23 11:00:00+05:30  3385.000000    4114  5.694983  3401.000000   \n",
       " 2023-08-23 11:05:00+05:30  3387.350098    8344  5.267493  3401.000000   \n",
       " 2023-08-23 11:10:00+05:30  3387.149902    5065  4.790002  3401.000000   \n",
       " 2023-08-23 11:15:00+05:30  3386.949951    5608  4.630005  3398.550049   \n",
       " ...                                ...     ...       ...          ...   \n",
       " 2023-09-22 15:05:00+05:30  3610.000000   34525  5.557495  3623.750000   \n",
       " 2023-09-22 15:10:00+05:30  3600.350098   64705  5.514990  3618.899902   \n",
       " 2023-09-22 15:15:00+05:30  3600.000000   83431  5.797498  3618.899902   \n",
       " 2023-09-22 15:20:00+05:30  3601.399902  149412  6.105005  3617.000000   \n",
       " 2023-09-22 15:25:00+05:30  3604.000000   55485  6.307507  3617.000000   \n",
       " \n",
       "                            roll_min_cp  roll_max_vol  \n",
       " Datetime                                              \n",
       " 2023-08-23 10:55:00+05:30  3376.000000       41820.0  \n",
       " 2023-08-23 11:00:00+05:30  3376.000000       39231.0  \n",
       " 2023-08-23 11:05:00+05:30  3376.000000       39231.0  \n",
       " 2023-08-23 11:10:00+05:30  3376.000000       27596.0  \n",
       " 2023-08-23 11:15:00+05:30  3376.000000       27596.0  \n",
       " ...                                ...           ...  \n",
       " 2023-09-22 15:05:00+05:30  3600.800049       70065.0  \n",
       " 2023-09-22 15:10:00+05:30  3600.100098       70065.0  \n",
       " 2023-09-22 15:15:00+05:30  3588.149902       83431.0  \n",
       " 2023-09-22 15:20:00+05:30  3588.149902      149412.0  \n",
       " 2023-09-22 15:25:00+05:30  3588.149902      149412.0  \n",
       " \n",
       " [1630 rows x 10 columns],\n",
       " 'INFY.NS':                                   Open         High          Low        Close  \\\n",
       " Datetime                                                                        \n",
       " 2023-08-23 10:55:00+05:30  1410.300049  1411.800049  1410.000000  1410.500000   \n",
       " 2023-08-23 11:00:00+05:30  1410.500000  1410.949951  1410.150024  1410.250000   \n",
       " 2023-08-23 11:05:00+05:30  1410.150024  1411.400024  1410.150024  1411.050049   \n",
       " 2023-08-23 11:10:00+05:30  1410.949951  1411.599976  1410.199951  1410.400024   \n",
       " 2023-08-23 11:15:00+05:30  1410.400024  1410.550049  1410.050049  1410.550049   \n",
       " ...                                ...          ...          ...          ...   \n",
       " 2023-09-22 15:05:00+05:30  1496.949951  1497.050049  1493.150024  1496.250000   \n",
       " 2023-09-22 15:10:00+05:30  1496.150024  1497.650024  1495.650024  1495.750000   \n",
       " 2023-09-22 15:15:00+05:30  1495.699951  1497.849976  1493.300049  1494.250000   \n",
       " 2023-09-22 15:20:00+05:30  1494.050049  1499.050049  1493.949951  1498.900024   \n",
       " 2023-09-22 15:25:00+05:30  1498.949951  1499.949951  1494.150024  1495.000000   \n",
       " \n",
       "                              Adj Close  Volume       ATR  roll_max_cp  \\\n",
       " Datetime                                                                \n",
       " 2023-08-23 10:55:00+05:30  1410.500000   34762  1.732495  1413.000000   \n",
       " 2023-08-23 11:00:00+05:30  1410.250000   10001  1.609991  1412.550049   \n",
       " 2023-08-23 11:05:00+05:30  1411.050049   14032  1.529993  1412.550049   \n",
       " 2023-08-23 11:10:00+05:30  1410.400024   11613  1.394995  1412.550049   \n",
       " 2023-08-23 11:15:00+05:30  1410.550049   13706  1.244995  1411.800049   \n",
       " ...                                ...     ...       ...          ...   \n",
       " 2023-09-22 15:05:00+05:30  1496.250000  146746  2.887500  1504.300049   \n",
       " 2023-09-22 15:10:00+05:30  1495.750000  164178  2.752496  1503.650024   \n",
       " 2023-09-22 15:15:00+05:30  1494.250000  161689  2.897491  1503.650024   \n",
       " 2023-09-22 15:20:00+05:30  1498.900024  182914  3.039996  1503.650024   \n",
       " 2023-09-22 15:25:00+05:30  1495.000000  139365  3.232495  1503.650024   \n",
       " \n",
       "                            roll_min_cp  roll_max_vol  \n",
       " Datetime                                              \n",
       " 2023-08-23 10:55:00+05:30  1407.400024       68327.0  \n",
       " 2023-08-23 11:00:00+05:30  1407.400024       59281.0  \n",
       " 2023-08-23 11:05:00+05:30  1407.400024       59281.0  \n",
       " 2023-08-23 11:10:00+05:30  1408.400024       50476.0  \n",
       " 2023-08-23 11:15:00+05:30  1408.400024       45892.0  \n",
       " ...                                ...           ...  \n",
       " 2023-09-22 15:05:00+05:30  1490.800049      153161.0  \n",
       " 2023-09-22 15:10:00+05:30  1490.800049      164178.0  \n",
       " 2023-09-22 15:15:00+05:30  1490.800049      164178.0  \n",
       " 2023-09-22 15:20:00+05:30  1490.800049      182914.0  \n",
       " 2023-09-22 15:25:00+05:30  1490.800049      182914.0  \n",
       " \n",
       " [1630 rows x 10 columns]}"
      ]
     },
     "execution_count": 54,
     "metadata": {},
     "output_type": "execute_result"
    }
   ],
   "source": [
    "ohlc_dict"
   ]
  },
  {
   "cell_type": "code",
   "execution_count": 55,
   "metadata": {},
   "outputs": [
    {
     "name": "stdout",
     "output_type": "stream",
     "text": [
      "calculating returns for  TCS.NS\n",
      "calculating returns for  INFY.NS\n"
     ]
    }
   ],
   "source": [
    "# identifying signals and calculating daily return (stop loss factored in)\n",
    "for ticker in tickers:\n",
    "    print(\"calculating returns for \",ticker)\n",
    "    for i in range(1,len(ohlc_dict[ticker])):\n",
    "        if tickers_signal[ticker] == \"\":\n",
    "            tickers_ret[ticker].append(0)\n",
    "            if ohlc_dict[ticker][\"High\"][i]>=ohlc_dict[ticker][\"roll_max_cp\"][i] and \\\n",
    "               ohlc_dict[ticker][\"Volume\"][i]>1.5*ohlc_dict[ticker][\"roll_max_vol\"][i-1]:\n",
    "                tickers_signal[ticker] = \"Buy\"\n",
    "            elif ohlc_dict[ticker][\"Low\"][i]<=ohlc_dict[ticker][\"roll_min_cp\"][i] and \\\n",
    "               ohlc_dict[ticker][\"Volume\"][i]>1.5*ohlc_dict[ticker][\"roll_max_vol\"][i-1]:\n",
    "                tickers_signal[ticker] = \"Sell\"\n",
    "        \n",
    "        elif tickers_signal[ticker] == \"Buy\":\n",
    "            if ohlc_dict[ticker][\"Low\"][i]<ohlc_dict[ticker][\"Close\"][i-1] - ohlc_dict[ticker][\"ATR\"][i-1]:\n",
    "                tickers_signal[ticker] = \"\"\n",
    "                tickers_ret[ticker].append(((ohlc_dict[ticker][\"Close\"][i-1] - ohlc_dict[ticker][\"ATR\"][i-1])/ohlc_dict[ticker][\"Close\"][i-1])-1)\n",
    "            elif ohlc_dict[ticker][\"Low\"][i]<=ohlc_dict[ticker][\"roll_min_cp\"][i] and \\\n",
    "               ohlc_dict[ticker][\"Volume\"][i]>1.5*ohlc_dict[ticker][\"roll_max_vol\"][i-1]:\n",
    "                tickers_signal[ticker] = \"Sell\"\n",
    "                tickers_ret[ticker].append((ohlc_dict[ticker][\"Close\"][i]/ohlc_dict[ticker][\"Close\"][i-1])-1)\n",
    "            else:\n",
    "                tickers_ret[ticker].append((ohlc_dict[ticker][\"Close\"][i]/ohlc_dict[ticker][\"Close\"][i-1])-1)\n",
    "                \n",
    "        elif tickers_signal[ticker] == \"Sell\":\n",
    "            if ohlc_dict[ticker][\"High\"][i]>ohlc_dict[ticker][\"Close\"][i-1] + ohlc_dict[ticker][\"ATR\"][i-1]:\n",
    "                tickers_signal[ticker] = \"\"\n",
    "                tickers_ret[ticker].append((ohlc_dict[ticker][\"Close\"][i-1]/(ohlc_dict[ticker][\"Close\"][i-1] + ohlc_dict[ticker][\"ATR\"][i-1]))-1)\n",
    "            elif ohlc_dict[ticker][\"High\"][i]>=ohlc_dict[ticker][\"roll_max_cp\"][i] and \\\n",
    "               ohlc_dict[ticker][\"Volume\"][i]>1.5*ohlc_dict[ticker][\"roll_max_vol\"][i-1]:\n",
    "                tickers_signal[ticker] = \"Buy\"\n",
    "                tickers_ret[ticker].append((ohlc_dict[ticker][\"Close\"][i-1]/ohlc_dict[ticker][\"Close\"][i])-1)\n",
    "            else:\n",
    "                tickers_ret[ticker].append((ohlc_dict[ticker][\"Close\"][i-1]/ohlc_dict[ticker][\"Close\"][i])-1)\n",
    "                \n",
    "    ohlc_dict[ticker][\"ret\"] = np.array(tickers_ret[ticker])\n",
    "\n",
    "\n",
    "\n"
   ]
  },
  {
   "cell_type": "code",
   "execution_count": 56,
   "metadata": {},
   "outputs": [
    {
     "data": {
      "text/plain": [
       "Datetime\n",
       "2023-08-23 10:55:00+05:30    0.0\n",
       "2023-08-23 11:00:00+05:30    0.0\n",
       "2023-08-23 11:05:00+05:30    0.0\n",
       "2023-08-23 11:10:00+05:30    0.0\n",
       "2023-08-23 11:15:00+05:30    0.0\n",
       "                            ... \n",
       "2023-09-22 15:05:00+05:30    0.0\n",
       "2023-09-22 15:10:00+05:30    0.0\n",
       "2023-09-22 15:15:00+05:30    0.0\n",
       "2023-09-22 15:20:00+05:30    0.0\n",
       "2023-09-22 15:25:00+05:30    0.0\n",
       "Name: ret, Length: 1630, dtype: float64"
      ]
     },
     "execution_count": 56,
     "metadata": {},
     "output_type": "execute_result"
    }
   ],
   "source": [
    "  ohlc_dict[ticker][\"ret\"]"
   ]
  },
  {
   "cell_type": "code",
   "execution_count": 57,
   "metadata": {},
   "outputs": [
    {
     "data": {
      "text/plain": [
       "{'TCS.NS':                                   Open         High          Low        Close  \\\n",
       " Datetime                                                                        \n",
       " 2023-08-23 10:55:00+05:30  3384.800049  3386.949951  3383.000000  3386.250000   \n",
       " 2023-08-23 11:00:00+05:30  3386.199951  3386.500000  3383.500000  3385.000000   \n",
       " 2023-08-23 11:05:00+05:30  3385.000000  3387.350098  3384.000000  3387.350098   \n",
       " 2023-08-23 11:10:00+05:30  3386.350098  3387.850098  3385.500000  3387.149902   \n",
       " 2023-08-23 11:15:00+05:30  3387.000000  3387.100098  3384.300049  3386.949951   \n",
       " ...                                ...          ...          ...          ...   \n",
       " 2023-09-22 15:05:00+05:30  3606.850098  3610.000000  3606.500000  3610.000000   \n",
       " 2023-09-22 15:10:00+05:30  3609.949951  3610.000000  3600.100098  3600.350098   \n",
       " 2023-09-22 15:15:00+05:30  3600.300049  3600.350098  3588.149902  3600.000000   \n",
       " 2023-09-22 15:20:00+05:30  3599.000000  3610.199951  3599.000000  3601.399902   \n",
       " 2023-09-22 15:25:00+05:30  3602.100098  3608.899902  3601.649902  3604.000000   \n",
       " \n",
       "                              Adj Close  Volume       ATR  roll_max_cp  \\\n",
       " Datetime                                                                \n",
       " 2023-08-23 10:55:00+05:30  3386.250000   11051  6.084985  3401.000000   \n",
       " 2023-08-23 11:00:00+05:30  3385.000000    4114  5.694983  3401.000000   \n",
       " 2023-08-23 11:05:00+05:30  3387.350098    8344  5.267493  3401.000000   \n",
       " 2023-08-23 11:10:00+05:30  3387.149902    5065  4.790002  3401.000000   \n",
       " 2023-08-23 11:15:00+05:30  3386.949951    5608  4.630005  3398.550049   \n",
       " ...                                ...     ...       ...          ...   \n",
       " 2023-09-22 15:05:00+05:30  3610.000000   34525  5.557495  3623.750000   \n",
       " 2023-09-22 15:10:00+05:30  3600.350098   64705  5.514990  3618.899902   \n",
       " 2023-09-22 15:15:00+05:30  3600.000000   83431  5.797498  3618.899902   \n",
       " 2023-09-22 15:20:00+05:30  3601.399902  149412  6.105005  3617.000000   \n",
       " 2023-09-22 15:25:00+05:30  3604.000000   55485  6.307507  3617.000000   \n",
       " \n",
       "                            roll_min_cp  roll_max_vol  ret  \n",
       " Datetime                                                   \n",
       " 2023-08-23 10:55:00+05:30  3376.000000       41820.0  0.0  \n",
       " 2023-08-23 11:00:00+05:30  3376.000000       39231.0  0.0  \n",
       " 2023-08-23 11:05:00+05:30  3376.000000       39231.0  0.0  \n",
       " 2023-08-23 11:10:00+05:30  3376.000000       27596.0  0.0  \n",
       " 2023-08-23 11:15:00+05:30  3376.000000       27596.0  0.0  \n",
       " ...                                ...           ...  ...  \n",
       " 2023-09-22 15:05:00+05:30  3600.800049       70065.0  0.0  \n",
       " 2023-09-22 15:10:00+05:30  3600.100098       70065.0  0.0  \n",
       " 2023-09-22 15:15:00+05:30  3588.149902       83431.0  0.0  \n",
       " 2023-09-22 15:20:00+05:30  3588.149902      149412.0  0.0  \n",
       " 2023-09-22 15:25:00+05:30  3588.149902      149412.0  0.0  \n",
       " \n",
       " [1630 rows x 11 columns],\n",
       " 'INFY.NS':                                   Open         High          Low        Close  \\\n",
       " Datetime                                                                        \n",
       " 2023-08-23 10:55:00+05:30  1410.300049  1411.800049  1410.000000  1410.500000   \n",
       " 2023-08-23 11:00:00+05:30  1410.500000  1410.949951  1410.150024  1410.250000   \n",
       " 2023-08-23 11:05:00+05:30  1410.150024  1411.400024  1410.150024  1411.050049   \n",
       " 2023-08-23 11:10:00+05:30  1410.949951  1411.599976  1410.199951  1410.400024   \n",
       " 2023-08-23 11:15:00+05:30  1410.400024  1410.550049  1410.050049  1410.550049   \n",
       " ...                                ...          ...          ...          ...   \n",
       " 2023-09-22 15:05:00+05:30  1496.949951  1497.050049  1493.150024  1496.250000   \n",
       " 2023-09-22 15:10:00+05:30  1496.150024  1497.650024  1495.650024  1495.750000   \n",
       " 2023-09-22 15:15:00+05:30  1495.699951  1497.849976  1493.300049  1494.250000   \n",
       " 2023-09-22 15:20:00+05:30  1494.050049  1499.050049  1493.949951  1498.900024   \n",
       " 2023-09-22 15:25:00+05:30  1498.949951  1499.949951  1494.150024  1495.000000   \n",
       " \n",
       "                              Adj Close  Volume       ATR  roll_max_cp  \\\n",
       " Datetime                                                                \n",
       " 2023-08-23 10:55:00+05:30  1410.500000   34762  1.732495  1413.000000   \n",
       " 2023-08-23 11:00:00+05:30  1410.250000   10001  1.609991  1412.550049   \n",
       " 2023-08-23 11:05:00+05:30  1411.050049   14032  1.529993  1412.550049   \n",
       " 2023-08-23 11:10:00+05:30  1410.400024   11613  1.394995  1412.550049   \n",
       " 2023-08-23 11:15:00+05:30  1410.550049   13706  1.244995  1411.800049   \n",
       " ...                                ...     ...       ...          ...   \n",
       " 2023-09-22 15:05:00+05:30  1496.250000  146746  2.887500  1504.300049   \n",
       " 2023-09-22 15:10:00+05:30  1495.750000  164178  2.752496  1503.650024   \n",
       " 2023-09-22 15:15:00+05:30  1494.250000  161689  2.897491  1503.650024   \n",
       " 2023-09-22 15:20:00+05:30  1498.900024  182914  3.039996  1503.650024   \n",
       " 2023-09-22 15:25:00+05:30  1495.000000  139365  3.232495  1503.650024   \n",
       " \n",
       "                            roll_min_cp  roll_max_vol  ret  \n",
       " Datetime                                                   \n",
       " 2023-08-23 10:55:00+05:30  1407.400024       68327.0  0.0  \n",
       " 2023-08-23 11:00:00+05:30  1407.400024       59281.0  0.0  \n",
       " 2023-08-23 11:05:00+05:30  1407.400024       59281.0  0.0  \n",
       " 2023-08-23 11:10:00+05:30  1408.400024       50476.0  0.0  \n",
       " 2023-08-23 11:15:00+05:30  1408.400024       45892.0  0.0  \n",
       " ...                                ...           ...  ...  \n",
       " 2023-09-22 15:05:00+05:30  1490.800049      153161.0  0.0  \n",
       " 2023-09-22 15:10:00+05:30  1490.800049      164178.0  0.0  \n",
       " 2023-09-22 15:15:00+05:30  1490.800049      164178.0  0.0  \n",
       " 2023-09-22 15:20:00+05:30  1490.800049      182914.0  0.0  \n",
       " 2023-09-22 15:25:00+05:30  1490.800049      182914.0  0.0  \n",
       " \n",
       " [1630 rows x 11 columns]}"
      ]
     },
     "execution_count": 57,
     "metadata": {},
     "output_type": "execute_result"
    }
   ],
   "source": [
    "ohlc_dict"
   ]
  },
  {
   "cell_type": "code",
   "execution_count": 58,
   "metadata": {},
   "outputs": [
    {
     "name": "stdout",
     "output_type": "stream",
     "text": [
      "calculating KPIs for  TCS.NS\n",
      "calculating KPIs for  INFY.NS\n"
     ]
    },
    {
     "data": {
      "text/html": [
       "<div>\n",
       "<style scoped>\n",
       "    .dataframe tbody tr th:only-of-type {\n",
       "        vertical-align: middle;\n",
       "    }\n",
       "\n",
       "    .dataframe tbody tr th {\n",
       "        vertical-align: top;\n",
       "    }\n",
       "\n",
       "    .dataframe thead th {\n",
       "        text-align: right;\n",
       "    }\n",
       "</style>\n",
       "<table border=\"1\" class=\"dataframe\">\n",
       "  <thead>\n",
       "    <tr style=\"text-align: right;\">\n",
       "      <th></th>\n",
       "      <th>Return</th>\n",
       "      <th>Sharpe Ratio</th>\n",
       "      <th>Max Drawdown</th>\n",
       "    </tr>\n",
       "  </thead>\n",
       "  <tbody>\n",
       "    <tr>\n",
       "      <th>TCS.NS</th>\n",
       "      <td>0.057414</td>\n",
       "      <td>0.982555</td>\n",
       "      <td>0.011066</td>\n",
       "    </tr>\n",
       "    <tr>\n",
       "      <th>INFY.NS</th>\n",
       "      <td>-0.161049</td>\n",
       "      <td>-5.792127</td>\n",
       "      <td>0.014942</td>\n",
       "    </tr>\n",
       "  </tbody>\n",
       "</table>\n",
       "</div>"
      ],
      "text/plain": [
       "           Return  Sharpe Ratio  Max Drawdown\n",
       "TCS.NS   0.057414      0.982555      0.011066\n",
       "INFY.NS -0.161049     -5.792127      0.014942"
      ]
     },
     "execution_count": 58,
     "metadata": {},
     "output_type": "execute_result"
    },
    {
     "data": {
      "image/png": "[encoded data removed]",
      "text/plain": [
       "<Figure size 640x480 with 1 Axes>"
      ]
     },
     "metadata": {},
     "output_type": "display_data"
    }
   ],
   "source": [
    "# calculating overall strategy's KPIs\n",
    "strategy_df = pd.DataFrame()\n",
    "for ticker in tickers:\n",
    "    strategy_df[ticker] = ohlc_dict[ticker][\"ret\"]\n",
    "strategy_df[\"ret\"] = strategy_df.mean(axis=1)\n",
    "CAGR(strategy_df)\n",
    "sharpe(strategy_df,0.025)\n",
    "max_dd(strategy_df)  \n",
    "\n",
    "\n",
    "# vizualization of strategy return\n",
    "(1+strategy_df[\"ret\"]).cumprod().plot()\n",
    "\n",
    "\n",
    "#calculating individual stock's KPIs\n",
    "cagr = {}\n",
    "sharpe_ratios = {}\n",
    "max_drawdown = {}\n",
    "for ticker in tickers:\n",
    "    print(\"calculating KPIs for \",ticker)      \n",
    "    cagr[ticker] =  CAGR(ohlc_dict[ticker])\n",
    "    sharpe_ratios[ticker] =  sharpe(ohlc_dict[ticker],0.025)\n",
    "    max_drawdown[ticker] =  max_dd(ohlc_dict[ticker])\n",
    "\n",
    "KPI_df = pd.DataFrame([cagr,sharpe_ratios,max_drawdown],index=[\"Return\",\"Sharpe Ratio\",\"Max Drawdown\"])      \n",
    "KPI_df.T\n"
   ]
  }
 ],
 "metadata": {
  "kernelspec": {
   "display_name": "Python 3",
   "language": "python",
   "name": "python3"
  },
  "language_info": {
   "codemirror_mode": {
    "name": "ipython",
    "version": 3
   },
   "file_extension": ".py",
   "mimetype": "text/x-python",
   "name": "python",
   "nbconvert_exporter": "python",
   "pygments_lexer": "ipython3",
   "version": "3.10.9"
  },
  "orig_nbformat": 4
 },
 "nbformat": 4,
 "nbformat_minor": 2
}
