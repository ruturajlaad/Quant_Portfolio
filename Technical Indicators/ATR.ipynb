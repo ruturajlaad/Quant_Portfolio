{
 "cells": [
  {
   "cell_type": "code",
   "execution_count": null,
   "metadata": {},
   "outputs": [],
   "source": [
    "import pandas as pd\n",
    "import datetime as dt\n",
    "import yfinance as yf\n",
    "import matplotlib.pyplot as plt\n"
   ]
  },
  {
   "cell_type": "code",
   "execution_count": null,
   "metadata": {},
   "outputs": [],
   "source": [
    "tickers=[\"ITC.NS\"]\n",
    "ohlcv_data={}"
   ]
  },
  {
   "cell_type": "code",
   "execution_count": null,
   "metadata": {},
   "outputs": [],
   "source": [
    "for ticker in tickers:\n",
    "    temp=yf.download(ticker,period='1mo',interval='5m')\n",
    "    temp.dropna(how='any',inplace=True)\n",
    "    ohlcv_data[ticker]=temp"
   ]
  },
  {
   "cell_type": "markdown",
   "metadata": {},
   "source": []
  },
  {
   "cell_type": "markdown",
   "metadata": {},
   "source": []
  },
  {
   "cell_type": "code",
   "execution_count": null,
   "metadata": {},
   "outputs": [],
   "source": [
    "def ATR(DF,n=14):\n",
    "    df=DF.copy()\n",
    "    print(df)\n",
    "    df[\"H-L\"]=df[\"High\"]-df[\"Low\"]\n",
    "    df[\"H-PC\"]=df[\"High\"]-df[\"Adj Close\"].shift(1)\n",
    "    df[\"L-PC\"]=df[\"Low\"]-df[\"Adj Close\"].shift(1)\n",
    "    df[\"TR\"]=df[[\"H-L\",\"H-PC\",\"L-PC\"]].max(axis=1,skipna=False)\n",
    "    df[\"ATR\"]=df[\"TR\"].ewm(com=n,min_periods=n).mean()\n",
    "    return df[\"ATR\"]\n"
   ]
  },
  {
   "cell_type": "code",
   "execution_count": null,
   "metadata": {},
   "outputs": [],
   "source": [
    "ohlcv_data[ticker][\"ATR\"]=ATR(ohlcv_data[ticker])\n"
   ]
  },
  {
   "cell_type": "code",
   "execution_count": null,
   "metadata": {},
   "outputs": [],
   "source": [
    "ohlcv_data"
   ]
  }
 ],
 "metadata": {
  "kernelspec": {
   "display_name": "base",
   "language": "python",
   "name": "python3"
  },
  "language_info": {
   "codemirror_mode": {
    "name": "ipython",
    "version": 3
   },
   "file_extension": ".py",
   "mimetype": "text/x-python",
   "name": "python",
   "nbconvert_exporter": "python",
   "pygments_lexer": "ipython3",
   "version": "3.10.9"
  },
  "orig_nbformat": 4
 },
 "nbformat": 4,
 "nbformat_minor": 2
}
