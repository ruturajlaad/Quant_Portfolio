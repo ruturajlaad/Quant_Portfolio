{
 "cells": [
  {
   "cell_type": "code",
   "execution_count": 32,
   "metadata": {},
   "outputs": [],
   "source": [
    "import pandas as pd\n",
    "import datetime as dt\n",
    "import yfinance as yf\n",
    "import matplotlib.pyplot as plt\n",
    "import numpy as np\n",
    "from stocktrends import Renko\n"
   ]
  },
  {
   "cell_type": "code",
   "execution_count": 33,
   "metadata": {},
   "outputs": [],
   "source": [
    "tickers=[\"ITC.NS\"]\n",
    "ohlcv_data={}\n",
    "hour_data={}\n",
    "renko_data = {}"
   ]
  },
  {
   "cell_type": "code",
   "execution_count": 34,
   "metadata": {},
   "outputs": [
    {
     "name": "stdout",
     "output_type": "stream",
     "text": [
      "[*********************100%***********************]  1 of 1 completed\n",
      "[*********************100%***********************]  1 of 1 completed\n"
     ]
    }
   ],
   "source": [
    "for ticker in tickers:\n",
    "    temp=yf.download(ticker,period='1mo',interval='5m')\n",
    "    temp.dropna(how='any',inplace=True)\n",
    "    ohlcv_data[ticker]=temp\n",
    "    temp=yf.download(ticker,period='1mo',interval='5m')\n",
    "    temp.dropna(how='any',inplace=True)\n",
    "    hour_data[ticker]=temp"
   ]
  },
  {
   "cell_type": "code",
   "execution_count": 35,
   "metadata": {},
   "outputs": [],
   "source": [
    "def ATR(DF,n=14):\n",
    "    df=DF.copy()\n",
    "    print(df)\n",
    "    df[\"H-L\"]=df[\"High\"]-df[\"Low\"]\n",
    "    df[\"H-PC\"]=df[\"High\"]-df[\"Adj Close\"].shift(1)\n",
    "    df[\"L-PC\"]=df[\"Low\"]-df[\"Adj Close\"].shift(1)\n",
    "    df[\"TR\"]=df[[\"H-L\",\"H-PC\",\"L-PC\"]].max(axis=1,skipna=False)\n",
    "    df[\"ATR\"]=df[\"TR\"].ewm(com=n,min_periods=n).mean()\n",
    "    return df[\"ATR\"]\n"
   ]
  },
  {
   "cell_type": "code",
   "execution_count": 36,
   "metadata": {},
   "outputs": [
    {
     "name": "stdout",
     "output_type": "stream",
     "text": [
      "                                 Open        High  ...   Adj Close  Volume\n",
      "Datetime                                           ...                    \n",
      "2023-08-09 09:15:00+05:30  452.049988  452.049988  ...  451.350006       0\n",
      "2023-08-09 09:20:00+05:30  451.250000  451.399994  ...  450.350006  209104\n",
      "2023-08-09 09:25:00+05:30  450.299988  450.899994  ...  450.299988   83464\n",
      "2023-08-09 09:30:00+05:30  450.399994  450.399994  ...  449.899994  184594\n",
      "2023-08-09 09:35:00+05:30  449.899994  449.950012  ...  449.899994   81069\n",
      "...                               ...         ...  ...         ...     ...\n",
      "2023-09-08 15:05:00+05:30  443.149994  443.450012  ...  443.000000  403938\n",
      "2023-09-08 15:10:00+05:30  443.000000  443.000000  ...  442.500000  323316\n",
      "2023-09-08 15:15:00+05:30  442.450012  442.750000  ...  442.399994  574514\n",
      "2023-09-08 15:20:00+05:30  442.399994  442.750000  ...  442.700012  226197\n",
      "2023-09-08 15:25:00+05:30  442.649994  442.750000  ...  442.649994  232928\n",
      "\n",
      "[1650 rows x 6 columns]\n"
     ]
    }
   ],
   "source": [
    "def renko_DF(DF, hourly_df):\n",
    "    \"function to convert ohlc data into renko bricks\"\n",
    "    df = DF.copy()\n",
    "    df.reset_index(inplace=True)\n",
    "    df.drop(\"Close\",axis=1,inplace=True)\n",
    "    df.columns = [\"date\",\"open\",\"high\",\"low\",\"close\",\"volume\"]\n",
    "    df2 = Renko(df)\n",
    "    df2.brick_size = 3*round(ATR(hourly_df,120).iloc[-1],0)\n",
    "    renko_df = df2.get_ohlc_data() #if using older version of the library please use get_bricks() instead\n",
    "    return renko_df\n",
    "\n",
    "for ticker in ohlcv_data:\n",
    "    renko_data[ticker] = renko_DF(ohlcv_data[ticker],hour_data[ticker])"
   ]
  },
  {
   "cell_type": "code",
   "execution_count": 37,
   "metadata": {},
   "outputs": [
    {
     "data": {
      "text/plain": [
       "{'ITC.NS':                         date   open   high    low  close  uptrend\n",
       " 0  2023-08-09 09:15:00+05:30  447.0  450.0  447.0  450.0     True\n",
       " 1  2023-08-09 14:35:00+05:30  450.0  453.0  450.0  453.0     True\n",
       " 2  2023-08-09 14:40:00+05:30  453.0  456.0  453.0  456.0     True\n",
       " 3  2023-08-09 15:15:00+05:30  456.0  459.0  456.0  459.0     True\n",
       " 4  2023-08-10 12:25:00+05:30  456.0  456.0  453.0  453.0    False\n",
       " 5  2023-08-10 14:25:00+05:30  453.0  453.0  450.0  450.0    False\n",
       " 6  2023-08-11 11:35:00+05:30  450.0  450.0  447.0  447.0    False\n",
       " 7  2023-08-16 09:25:00+05:30  450.0  453.0  450.0  453.0     True\n",
       " 8  2023-08-17 09:15:00+05:30  450.0  450.0  447.0  447.0    False\n",
       " 9  2023-08-17 09:35:00+05:30  447.0  447.0  444.0  444.0    False\n",
       " 10 2023-08-17 12:50:00+05:30  444.0  444.0  441.0  441.0    False\n",
       " 11 2023-08-21 14:55:00+05:30  444.0  447.0  444.0  447.0     True\n",
       " 12 2023-08-22 09:30:00+05:30  447.0  450.0  447.0  450.0     True\n",
       " 13 2023-08-22 11:50:00+05:30  450.0  453.0  450.0  453.0     True\n",
       " 14 2023-08-25 10:10:00+05:30  450.0  450.0  447.0  447.0    False\n",
       " 15 2023-08-25 15:10:00+05:30  447.0  447.0  444.0  444.0    False\n",
       " 16 2023-08-29 10:45:00+05:30  444.0  444.0  441.0  441.0    False\n",
       " 17 2023-08-31 14:25:00+05:30  441.0  441.0  438.0  438.0    False\n",
       " 18 2023-09-01 12:30:00+05:30  441.0  444.0  441.0  444.0     True\n",
       " 19 2023-09-04 10:30:00+05:30  441.0  441.0  438.0  438.0    False\n",
       " 20 2023-09-05 15:25:00+05:30  441.0  444.0  441.0  444.0     True\n",
       " 21 2023-09-06 15:05:00+05:30  444.0  447.0  444.0  447.0     True}"
      ]
     },
     "execution_count": 37,
     "metadata": {},
     "output_type": "execute_result"
    }
   ],
   "source": [
    "renko_data"
   ]
  }
 ],
 "metadata": {
  "kernelspec": {
   "display_name": "base",
   "language": "python",
   "name": "python3"
  },
  "language_info": {
   "codemirror_mode": {
    "name": "ipython",
    "version": 3
   },
   "file_extension": ".py",
   "mimetype": "text/x-python",
   "name": "python",
   "nbconvert_exporter": "python",
   "pygments_lexer": "ipython3",
   "version": "3.10.9"
  },
  "orig_nbformat": 4
 },
 "nbformat": 4,
 "nbformat_minor": 2
}
