{
 "cells": [
  {
   "cell_type": "code",
   "execution_count": 23,
   "metadata": {},
   "outputs": [],
   "source": [
    "import pandas as pd\n",
    "import datetime as dt\n",
    "import yfinance as yf\n",
    "import matplotlib.pyplot as plt\n"
   ]
  },
  {
   "cell_type": "code",
   "execution_count": 24,
   "metadata": {},
   "outputs": [],
   "source": [
    "tickers=[\"ITC.NS\",\"TCS.NS\",\"LT.NS\"]\n",
    "ohlcv_data={}"
   ]
  },
  {
   "cell_type": "code",
   "execution_count": 25,
   "metadata": {},
   "outputs": [
    {
     "name": "stdout",
     "output_type": "stream",
     "text": [
      "[*********************100%***********************]  1 of 1 completed\n",
      "[*********************100%***********************]  1 of 1 completed\n",
      "[*********************100%***********************]  1 of 1 completed\n"
     ]
    }
   ],
   "source": [
    "for ticker in tickers:\n",
    "    temp=yf.download(ticker,period='1mo',interval='15m')\n",
    "    temp.dropna(how='any',inplace=True)\n",
    "    ohlcv_data[ticker]=temp"
   ]
  },
  {
   "cell_type": "code",
   "execution_count": 26,
   "metadata": {},
   "outputs": [],
   "source": [
    "def MACD(DF,a=12,b=26,c=9):\n",
    "    df=DF.copy()\n",
    "    df['ma_fast']=df['Adj Close'].ewm(span=a,min_periods=a).mean()\n",
    "    df['ma_slow']=df['Adj Close'].ewm(span=b,min_periods=b).mean()\n",
    "    df['macd']=df['ma_fast']-df['ma_slow']\n",
    "    df['signal']=df['macd'].ewm(span=c,min_periods=c).mean()\n",
    "    return df.loc[:,['macd','signal']]"
   ]
  },
  {
   "cell_type": "code",
   "execution_count": 27,
   "metadata": {},
   "outputs": [],
   "source": [
    "for ticker in ohlcv_data:\n",
    "    ohlcv_data[ticker][['MACD','SIGNAL']]=MACD(ohlcv_data[ticker])\n"
   ]
  },
  {
   "cell_type": "code",
   "execution_count": 1,
   "metadata": {},
   "outputs": [
    {
     "ename": "NameError",
     "evalue": "name 'ohlcv_data' is not defined",
     "output_type": "error",
     "traceback": [
      "\u001b[1;31m---------------------------------------------------------------------------\u001b[0m",
      "\u001b[1;31mNameError\u001b[0m                                 Traceback (most recent call last)",
      "Cell \u001b[1;32mIn[1], line 1\u001b[0m\n\u001b[1;32m----> 1\u001b[0m ohlcv_data\n",
      "\u001b[1;31mNameError\u001b[0m: name 'ohlcv_data' is not defined"
     ]
    }
   ],
   "source": [
    "ohlcv_data"
   ]
  }
 ],
 "metadata": {
  "kernelspec": {
   "display_name": "base",
   "language": "python",
   "name": "python3"
  },
  "language_info": {
   "codemirror_mode": {
    "name": "ipython",
    "version": 3
   },
   "file_extension": ".py",
   "mimetype": "text/x-python",
   "name": "python",
   "nbconvert_exporter": "python",
   "pygments_lexer": "ipython3",
   "version": "3.10.9"
  },
  "orig_nbformat": 4
 },
 "nbformat": 4,
 "nbformat_minor": 2
}
