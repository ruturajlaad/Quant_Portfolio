{
 "cells": [
  {
   "cell_type": "code",
   "execution_count": null,
   "metadata": {},
   "outputs": [],
   "source": [
    "import pandas as pd\n",
    "import datetime as dt\n",
    "import yfinance as yf\n",
    "import matplotlib.pyplot as plt\n"
   ]
  },
  {
   "cell_type": "code",
   "execution_count": null,
   "metadata": {},
   "outputs": [],
   "source": [
    "tickers=[\"ITC.NS\"]\n",
    "ohlcv_data={}"
   ]
  },
  {
   "cell_type": "code",
   "execution_count": null,
   "metadata": {},
   "outputs": [],
   "source": [
    "for ticker in tickers:\n",
    "    temp=yf.download(ticker,period='1mo',interval='15m')\n",
    "    temp.dropna(how='any',inplace=True)\n",
    "    ohlcv_data[ticker]=temp"
   ]
  },
  {
   "cell_type": "code",
   "execution_count": null,
   "metadata": {},
   "outputs": [],
   "source": [
    "def BB(DF,n=14):\n",
    "    df=DF.copy()\n",
    "    df[\"MB\"]=df[\"Adj Close\"].rolling(n).mean()\n",
    "    df[\"UB\"]=df[\"MB\"]+2*df[\"Adj Close\"].rolling(n).std(ddof=0)\n",
    "    df[\"LB\"]=df[\"MB\"]-2*df[\"Adj Close\"].rolling(n).std(ddof=0)\n",
    "    df[\"BW\"]=df[\"UB\"]-df[\"LB\"]\n",
    "    return df[[\"MB\",\"UB\",\"LB\",\"BW\"]]"
   ]
  },
  {
   "cell_type": "code",
   "execution_count": null,
   "metadata": {},
   "outputs": [],
   "source": [
    "for ticker in ohlcv_data:\n",
    "    ohlcv_data[ticker][[\"MB\",\"UB\",\"LB\",\"BW\"]]=BB(ohlcv_data[ticker],20)"
   ]
  },
  {
   "cell_type": "code",
   "execution_count": null,
   "metadata": {},
   "outputs": [],
   "source": [
    "ohlcv_data"
   ]
  }
 ],
 "metadata": {
  "kernelspec": {
   "display_name": "base",
   "language": "python",
   "name": "python3"
  },
  "language_info": {
   "codemirror_mode": {
    "name": "ipython",
    "version": 3
   },
   "file_extension": ".py",
   "mimetype": "text/x-python",
   "name": "python",
   "nbconvert_exporter": "python",
   "pygments_lexer": "ipython3",
   "version": "3.10.9"
  },
  "orig_nbformat": 4
 },
 "nbformat": 4,
 "nbformat_minor": 2
}
