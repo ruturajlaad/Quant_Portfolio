{
 "cells": [
  {
   "cell_type": "code",
   "execution_count": 9,
   "metadata": {},
   "outputs": [],
   "source": [
    "import requests\n",
    "from bs4 import BeautifulSoup\n",
    "import pandas as pd"
   ]
  },
  {
   "cell_type": "code",
   "execution_count": 10,
   "metadata": {},
   "outputs": [],
   "source": [
    "\n",
    "url=\"https://finance.yahoo.com/quote/ITC.NS/key-statistics?p=ITC.NS\"\n",
    "income_statement={}\n",
    "table_title={}\n",
    "\n",
    "headers={\"USer-Agent\":\"Chrome/116.0.5845.96\"}\n",
    "page=requests.get(url,headers=headers)\n",
    "page_content=page.content\n",
    "soup= BeautifulSoup(page_content,\"html.parser\")\n",
    "tabl=soup.find_all(\"table\",{\"class\":\"W(100%) Bdcl(c)\"})"
   ]
  },
  {
   "cell_type": "code",
   "execution_count": null,
   "metadata": {},
   "outputs": [],
   "source": []
  },
  {
   "cell_type": "code",
   "execution_count": 12,
   "metadata": {},
   "outputs": [
    {
     "data": {
      "text/plain": [
       "[<tr class=\"Bxz(bb) H(36px) BdY Bdc($seperatorColor)\"><td class=\"Pos(st) Start(0) Bgc($lv2BgColor) fi-row:h_Bgc($hoverBgColor) Pend(10px) Miw(140px)\"><span>Operating Cash Flow</span> <!-- -->(ttm)<sup aria-label=\"\"></sup></td><td class=\"Fw(500) Ta(end) Pstart(10px) Miw(60px)\"><span>N/A</span></td></tr>,\n",
       " <tr class=\"Bxz(bb) H(36px) BdB Bdbc($seperatorColor)\"><td class=\"Pos(st) Start(0) Bgc($lv2BgColor) fi-row:h_Bgc($hoverBgColor) Pend(10px)\"><span>Levered Free Cash Flow</span> <!-- -->(ttm)<sup aria-label=\"\"></sup></td><td class=\"Fw(500) Ta(end) Pstart(10px) Miw(60px)\"><span>N/A</span></td></tr>]"
      ]
     },
     "execution_count": 12,
     "metadata": {},
     "output_type": "execute_result"
    }
   ],
   "source": [
    "rows"
   ]
  },
  {
   "cell_type": "code",
   "execution_count": 16,
   "metadata": {},
   "outputs": [
    {
     "name": "stdout",
     "output_type": "stream",
     "text": [
      "Operating Cash Flow (ttm)N/A\n",
      "Levered Free Cash Flow (ttm)N/A\n"
     ]
    }
   ],
   "source": [
    "temp_stats={}\n",
    "for t in tabl:\n",
    "    rows= t.find_all(\"tr\")\n",
    "for row in rows:\n",
    "    print(row.get_text())\n",
    "    temp_stats[row.get_text(separator=\"|\").split(\"|\")[0]] = row.get_text(separator=\"|\").split(\"|\")[1]"
   ]
  },
  {
   "cell_type": "code",
   "execution_count": null,
   "metadata": {},
   "outputs": [],
   "source": []
  }
 ],
 "metadata": {
  "kernelspec": {
   "display_name": "base",
   "language": "python",
   "name": "python3"
  },
  "language_info": {
   "codemirror_mode": {
    "name": "ipython",
    "version": 3
   },
   "file_extension": ".py",
   "mimetype": "text/x-python",
   "name": "python",
   "nbconvert_exporter": "python",
   "pygments_lexer": "ipython3",
   "version": "3.10.9"
  },
  "orig_nbformat": 4
 },
 "nbformat": 4,
 "nbformat_minor": 2
}
