{
 "cells": [
  {
   "cell_type": "code",
   "execution_count": 27,
   "metadata": {},
   "outputs": [],
   "source": [
    "import pandas as pd\n",
    "import datetime as dt\n",
    "import yfinance as yf\n",
    "import matplotlib.pyplot as plt\n",
    "import numpy as np"
   ]
  },
  {
   "cell_type": "code",
   "execution_count": 28,
   "metadata": {},
   "outputs": [],
   "source": [
    "tickers=[\"ITC.NS\"]\n",
    "ohlcv_data={}"
   ]
  },
  {
   "cell_type": "code",
   "execution_count": 29,
   "metadata": {},
   "outputs": [
    {
     "name": "stdout",
     "output_type": "stream",
     "text": [
      "[*********************100%***********************]  1 of 1 completed\n"
     ]
    }
   ],
   "source": [
    "for ticker in tickers:\n",
    "    temp=yf.download(ticker,period='1mo',interval='5m')\n",
    "    temp.dropna(how='any',inplace=True)\n",
    "    ohlcv_data[ticker]=temp"
   ]
  },
  {
   "cell_type": "code",
   "execution_count": 30,
   "metadata": {},
   "outputs": [],
   "source": [
    "def RSI(DF,n=14):\n",
    "    df=DF.copy()\n",
    "    df[\"change\"]=df[\"Adj Close\"]-df[\"Adj Close\"].shift(1)\n",
    "    df[\"gain\"]=np.where(df[\"change\"]>=0,df[\"change\"],0)\n",
    "    df[\"loss\"]=np.where(df[\"change\"]<0,-1*df[\"change\"],0)\n",
    "    df[\"avgain\"]=df[\"gain\"].ewm(alpha=1/n,min_periods=n).mean()\n",
    "    df[\"avgloss\"]=df[\"loss\"].ewm(alpha=1/n,min_periods=n).mean()\n",
    "    df[\"rs\"]=df[\"avgain\"]/df[\"avgloss\"]\n",
    "    df[\"rsi\"]=100-(100/(1+df[\"rs\"]))\n",
    "    return df[\"rsi\"]\n",
    "    "
   ]
  },
  {
   "cell_type": "code",
   "execution_count": null,
   "metadata": {},
   "outputs": [],
   "source": []
  },
  {
   "cell_type": "code",
   "execution_count": 31,
   "metadata": {},
   "outputs": [],
   "source": [
    "for ticker in ohlcv_data:\n",
    "    ohlcv_data[ticker][\"rsi\"]=RSI(ohlcv_data[ticker])\n",
    "    "
   ]
  },
  {
   "cell_type": "code",
   "execution_count": 32,
   "metadata": {},
   "outputs": [
    {
     "data": {
      "text/plain": [
       "{'ITC.NS':                                  Open        High         Low       Close  \\\n",
       " Datetime                                                                    \n",
       " 2023-08-07 09:15:00+05:30  454.049988  454.549988  451.850006  452.200012   \n",
       " 2023-08-07 09:20:00+05:30  452.299988  452.399994  450.950012  451.899994   \n",
       " 2023-08-07 09:25:00+05:30  451.899994  452.450012  451.799988  452.049988   \n",
       " 2023-08-07 09:30:00+05:30  452.100006  452.700012  451.850006  452.600006   \n",
       " 2023-08-07 09:35:00+05:30  452.600006  453.200012  452.000000  453.200012   \n",
       " ...                               ...         ...         ...         ...   \n",
       " 2023-09-06 15:05:00+05:30  446.350006  447.950012  446.149994  447.700012   \n",
       " 2023-09-06 15:10:00+05:30  447.649994  448.450012  447.399994  448.100006   \n",
       " 2023-09-06 15:15:00+05:30  448.200012  448.450012  447.450012  447.799988   \n",
       " 2023-09-06 15:20:00+05:30  447.799988  448.399994  447.649994  448.100006   \n",
       " 2023-09-06 15:25:00+05:30  448.149994  448.450012  447.299988  447.450012   \n",
       " \n",
       "                             Adj Close  Volume        rsi  \n",
       " Datetime                                                  \n",
       " 2023-08-07 09:15:00+05:30  452.200012       0        NaN  \n",
       " 2023-08-07 09:20:00+05:30  451.899994  357414        NaN  \n",
       " 2023-08-07 09:25:00+05:30  452.049988  411670        NaN  \n",
       " 2023-08-07 09:30:00+05:30  452.600006  189902        NaN  \n",
       " 2023-08-07 09:35:00+05:30  453.200012  207184        NaN  \n",
       " ...                               ...     ...        ...  \n",
       " 2023-09-06 15:05:00+05:30  447.700012  988619  75.409783  \n",
       " 2023-09-06 15:10:00+05:30  448.100006  792994  76.985931  \n",
       " 2023-09-06 15:15:00+05:30  447.799988  850036  73.196251  \n",
       " 2023-09-06 15:20:00+05:30  448.100006  743191  74.545643  \n",
       " 2023-09-06 15:25:00+05:30  447.450012  484091  66.709919  \n",
       " \n",
       " [1650 rows x 7 columns]}"
      ]
     },
     "execution_count": 32,
     "metadata": {},
     "output_type": "execute_result"
    }
   ],
   "source": [
    "ohlcv_data"
   ]
  }
 ],
 "metadata": {
  "kernelspec": {
   "display_name": "base",
   "language": "python",
   "name": "python3"
  },
  "language_info": {
   "codemirror_mode": {
    "name": "ipython",
    "version": 3
   },
   "file_extension": ".py",
   "mimetype": "text/x-python",
   "name": "python",
   "nbconvert_exporter": "python",
   "pygments_lexer": "ipython3",
   "version": "3.10.9"
  },
  "orig_nbformat": 4
 },
 "nbformat": 4,
 "nbformat_minor": 2
}
